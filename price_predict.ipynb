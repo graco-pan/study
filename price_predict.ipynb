{
 "cells": [
  {
   "cell_type": "code",
   "id": "initial_id",
   "metadata": {
    "collapsed": true,
    "ExecuteTime": {
     "end_time": "2025-01-07T05:46:47.092308Z",
     "start_time": "2025-01-07T05:46:47.079307Z"
    }
   },
   "source": [
    "import numpy as np\n",
    "import matplotlib.pyplot as plt\n",
    "import pandas as pd\n",
    "import torch\n",
    "from torch import nn\n",
    "from torch.utils import data\n",
    "import seaborn as sns\n"
   ],
   "outputs": [],
   "execution_count": 3
  },
  {
   "metadata": {
    "ExecuteTime": {
     "end_time": "2025-01-07T05:46:47.279114Z",
     "start_time": "2025-01-07T05:46:47.265112Z"
    }
   },
   "cell_type": "code",
   "source": [
    "import torch\n",
    "import torch.nn as nn\n",
    "from timm.models.layers import DropPath, to_2tuple, trunc_normal_\n",
    "\n",
    "class Mlp(nn.Module):\n",
    "    def __init__(self, in_features, hidden_features=None, act_layer=nn.GELU, drop=0., pred=True):\n",
    "        super().__init__()\n",
    "        #out_features = out_features or in_features\n",
    "        hidden_features = hidden_features or in_features\n",
    "        self.q = nn.Linear(in_features, in_features)\n",
    "        self.k = nn.Linear(in_features, in_features)\n",
    "        self.v = nn.Linear(in_features, in_features)\n",
    "        self.fc1 = nn.Linear(in_features, hidden_features)\n",
    "        self.act = act_layer()\n",
    "        self.pred = pred\n",
    "        if pred==True:\n",
    "            self.fc2 = nn.Linear(hidden_features,1)\n",
    "        else:\n",
    "            self.fc2 = nn.Linear(hidden_features, in_features)\n",
    "        self.drop = nn.Dropout(drop)\n",
    "\n",
    "    def forward(self, x):\n",
    "        x0 = x\n",
    "        q = self.q(x).unsqueeze(2)\n",
    "        k = self.k(x).unsqueeze(2)\n",
    "        v = self.v(x).unsqueeze(2)\n",
    "        attn = (q @ k.transpose(-2, -1))\n",
    "        #print(attn.size())\n",
    "        attn = attn.softmax(dim=-1)\n",
    "        x = (attn @ v).squeeze(2)\n",
    "        #print(x.size())\n",
    "        x += x0\n",
    "        x1 = x\n",
    "        x = self.fc1(x)\n",
    "        x = self.act(x)\n",
    "        x = self.drop(x)\n",
    "        x = self.fc2(x)\n",
    "        x = self.drop(x)\n",
    "        if self.pred==False:\n",
    "            x += x1\n",
    "\n",
    "        x = x.squeeze(0)\n",
    "        # print(\"Output shape in Mlp:\", x.shape)  # 打印输出数据的形状\n",
    "        return x\n",
    "\n",
    "\n",
    "class TF(nn.Module):\n",
    "    def __init__(self, in_features, drop=0.):\n",
    "        super().__init__()\n",
    "        self.Block1 = Mlp(in_features=in_features, hidden_features=64, act_layer=nn.GELU, drop=drop, pred=False)\n",
    "        self.Block2 = Mlp(in_features=in_features, hidden_features=64, act_layer=nn.GELU, drop=drop, pred=True)\n",
    "\n",
    "    def forward(self, x):\n",
    "        return self.Block2(self.Block1(x))"
   ],
   "id": "83e0f8c9442c7ad7",
   "outputs": [],
   "execution_count": 4
  },
  {
   "metadata": {
    "ExecuteTime": {
     "end_time": "2025-01-07T05:46:47.466037Z",
     "start_time": "2025-01-07T05:46:47.440037Z"
    }
   },
   "cell_type": "code",
   "source": [
    "#导入数据\n",
    "train_raw = pd.read_csv('train.csv')\n",
    "test_raw = pd.read_csv('test.csv')\n",
    "\n",
    "print(train_raw.shape, test_raw.shape)\n",
    "print(train_raw.iloc[0:4,[0,1,2,3,-3,-2,-1]])"
   ],
   "id": "4be7e9b86e66cc44",
   "outputs": [
    {
     "name": "stdout",
     "output_type": "stream",
     "text": [
      "(1460, 81) (1459, 80)\n",
      "   Id  MSSubClass MSZoning  LotFrontage SaleType SaleCondition  SalePrice\n",
      "0   1          60       RL         65.0       WD        Normal     208500\n",
      "1   2          20       RL         80.0       WD        Normal     181500\n",
      "2   3          60       RL         68.0       WD        Normal     223500\n",
      "3   4          70       RL         60.0       WD       Abnorml     140000\n"
     ]
    }
   ],
   "execution_count": 5
  },
  {
   "metadata": {
    "ExecuteTime": {
     "end_time": "2025-01-07T05:46:47.669475Z",
     "start_time": "2025-01-07T05:46:47.624450Z"
    }
   },
   "cell_type": "code",
   "source": [
    "#将train和test的数据进行拼接以进行标准化\n",
    "all_features_raw = pd.concat((train_raw.iloc[:,1:-1], test_raw.iloc[:,1:]))\n",
    "all_features = all_features_raw.copy()\n",
    "#进行基本的数据处理\n",
    "numeric_features = all_features.dtypes[all_features.dtypes != 'object'].index\n",
    "all_features[numeric_features] = all_features[numeric_features].apply(\n",
    "    lambda x: (x-x.mean())/(x.std()))\n",
    "all_features[numeric_features] = all_features[numeric_features].fillna(0)"
   ],
   "id": "99e95e70a0708527",
   "outputs": [],
   "execution_count": 6
  },
  {
   "metadata": {
    "ExecuteTime": {
     "end_time": "2025-01-07T05:46:47.825522Z",
     "start_time": "2025-01-07T05:46:47.795522Z"
    }
   },
   "cell_type": "code",
   "source": [
    "# 将分类特征转换为数值特征\n",
    "all_features = pd.get_dummies(all_features, dummy_na=True)\n",
    "print(all_features.shape)\n",
    "print(all_features)"
   ],
   "id": "6a3193e750d04394",
   "outputs": [
    {
     "name": "stdout",
     "output_type": "stream",
     "text": [
      "(2919, 331)\n",
      "      MSSubClass  LotFrontage   LotArea  OverallQual  OverallCond  YearBuilt  \\\n",
      "0       0.067320    -0.184443 -0.217841     0.646073    -0.507197   1.046078   \n",
      "1      -0.873466     0.458096 -0.072032    -0.063174     2.187904   0.154737   \n",
      "2       0.067320    -0.055935  0.137173     0.646073    -0.507197   0.980053   \n",
      "3       0.302516    -0.398622 -0.078371     0.646073    -0.507197  -1.859033   \n",
      "4       0.067320     0.629439  0.518814     1.355319    -0.507197   0.947040   \n",
      "...          ...          ...       ...          ...          ...        ...   \n",
      "1454    2.419286    -2.069222 -1.043758    -1.481667     1.289537  -0.043338   \n",
      "1455    2.419286    -2.069222 -1.049083    -1.481667    -0.507197  -0.043338   \n",
      "1456   -0.873466     3.884968  1.246594    -0.772420     1.289537  -0.373465   \n",
      "1457    0.655311    -0.312950  0.034599    -0.772420    -0.507197   0.682939   \n",
      "1458    0.067320     0.201080 -0.068608     0.646073    -0.507197   0.715952   \n",
      "\n",
      "      YearRemodAdd  MasVnrArea  BsmtFinSF1  BsmtFinSF2  ...  SaleType_Oth  \\\n",
      "0         0.896679    0.523038    0.580708    -0.29303  ...             0   \n",
      "1        -0.395536   -0.569893    1.177709    -0.29303  ...             0   \n",
      "2         0.848819    0.333448    0.097840    -0.29303  ...             0   \n",
      "3        -0.682695   -0.569893   -0.494771    -0.29303  ...             0   \n",
      "4         0.753100    1.381770    0.468770    -0.29303  ...             0   \n",
      "...            ...         ...         ...         ...  ...           ...   \n",
      "1454     -0.682695   -0.569893   -0.968860    -0.29303  ...             0   \n",
      "1455     -0.682695   -0.569893   -0.415757    -0.29303  ...             0   \n",
      "1456      0.561660   -0.569893    1.717643    -0.29303  ...             0   \n",
      "1457      0.370221   -0.569893   -0.229194    -0.29303  ...             0   \n",
      "1458      0.465941   -0.045732    0.694840    -0.29303  ...             0   \n",
      "\n",
      "      SaleType_WD  SaleType_nan  SaleCondition_Abnorml  SaleCondition_AdjLand  \\\n",
      "0               1             0                      0                      0   \n",
      "1               1             0                      0                      0   \n",
      "2               1             0                      0                      0   \n",
      "3               1             0                      1                      0   \n",
      "4               1             0                      0                      0   \n",
      "...           ...           ...                    ...                    ...   \n",
      "1454            1             0                      0                      0   \n",
      "1455            1             0                      1                      0   \n",
      "1456            1             0                      1                      0   \n",
      "1457            1             0                      0                      0   \n",
      "1458            1             0                      0                      0   \n",
      "\n",
      "      SaleCondition_Alloca  SaleCondition_Family  SaleCondition_Normal  \\\n",
      "0                        0                     0                     1   \n",
      "1                        0                     0                     1   \n",
      "2                        0                     0                     1   \n",
      "3                        0                     0                     0   \n",
      "4                        0                     0                     1   \n",
      "...                    ...                   ...                   ...   \n",
      "1454                     0                     0                     1   \n",
      "1455                     0                     0                     0   \n",
      "1456                     0                     0                     0   \n",
      "1457                     0                     0                     1   \n",
      "1458                     0                     0                     1   \n",
      "\n",
      "      SaleCondition_Partial  SaleCondition_nan  \n",
      "0                         0                  0  \n",
      "1                         0                  0  \n",
      "2                         0                  0  \n",
      "3                         0                  0  \n",
      "4                         0                  0  \n",
      "...                     ...                ...  \n",
      "1454                      0                  0  \n",
      "1455                      0                  0  \n",
      "1456                      0                  0  \n",
      "1457                      0                  0  \n",
      "1458                      0                  0  \n",
      "\n",
      "[2919 rows x 331 columns]\n"
     ]
    }
   ],
   "execution_count": 7
  },
  {
   "metadata": {
    "ExecuteTime": {
     "end_time": "2025-01-07T05:46:47.997549Z",
     "start_time": "2025-01-07T05:46:47.982551Z"
    }
   },
   "cell_type": "code",
   "source": [
    "# 转为tensors\n",
    "device = 'cuda' if torch.cuda.is_available() else 'cpu'\n",
    "\n",
    "n_train = train_raw.shape[0]\n",
    "train_features = torch.tensor(all_features[:n_train].values, dtype=torch.float32).to(device)\n",
    "test_features = torch.tensor(all_features[n_train:].values, dtype=torch.float32).to(device)\n",
    "train_labels = torch.tensor(train_raw.SalePrice.values.reshape(-1,1), dtype=torch.float32).to(device)"
   ],
   "id": "14419d27966680e0",
   "outputs": [],
   "execution_count": 8
  },
  {
   "metadata": {
    "ExecuteTime": {
     "end_time": "2025-01-07T05:46:48.200557Z",
     "start_time": "2025-01-07T05:46:48.186551Z"
    }
   },
   "cell_type": "code",
   "source": [
    "loss = nn.MSELoss()\n",
    "in_features = train_features.shape[1]\n",
    "\n",
    "def get_net():\n",
    "    #net = nn.Sequential(nn.Linear(in_features, 64), nn.ReLU(), nn.Linear(64,1)).to(device)\n",
    "    net = TF(in_features=331, drop=0.).to(device)\n",
    "    return net\n",
    "\n",
    "\n",
    "# ##### Log root mean squared error\n",
    "def log_rmse(net, features, labels):\n",
    "    clipped_preds = torch.clamp(net(features), 1, float('inf'))\n",
    "    rmse = torch.sqrt(loss(torch.log(clipped_preds), torch.log(labels)))\n",
    "    return rmse.item()\n",
    "\n",
    "\n",
    "# ##### Load dataset\n",
    "\n",
    "def load_array(data_arrays, batch_size, is_train=True):\n",
    "    dataset = data.TensorDataset(*data_arrays)\n",
    "    return data.DataLoader(dataset, batch_size, shuffle=is_train)\n",
    "\n",
    "\n",
    "# ##### Define trainning model\n",
    "def train(net, train_features, train_labels, test_features, test_labels,\n",
    "          num_epochs, learning_rate, weight_decay, batch_size):\n",
    "    train_ls, test_ls = [], []\n",
    "    train_iter = load_array((train_features, train_labels), batch_size)\n",
    "    optimizer = torch.optim.Adam(net.parameters(), lr=learning_rate,\n",
    "                                 weight_decay=weight_decay)\n",
    "    for epoch in range(num_epochs):\n",
    "        for X, y in train_iter:\n",
    "            optimizer.zero_grad()\n",
    "            l = loss(net(X), y)\n",
    "            l.backward()\n",
    "            optimizer.step()\n",
    "        train_ls.append(log_rmse(net, train_features, train_labels))\n",
    "        if test_labels is not None:\n",
    "            test_ls.append(log_rmse(net, test_features, test_labels))\n",
    "    return train_ls, test_ls\n",
    "\n",
    "\n",
    "# ##### K-fold cross-validation\n",
    "def get_k_fold_data(k, i, X, y):\n",
    "    assert k > 1\n",
    "    fold_size = X.shape[0] // k\n",
    "    X_train, y_train = None, None\n",
    "    for j in range(k):\n",
    "        idx = slice(j*fold_size, (j+1)*fold_size)\n",
    "        X_part, y_part = X[idx,:], y[idx]\n",
    "        if j == i:\n",
    "            X_valid, y_valid = X_part, y_part\n",
    "        elif X_train is None:\n",
    "            X_train, y_train = X_part, y_part\n",
    "        else:\n",
    "            X_train = torch.cat([X_train, X_part], 0)\n",
    "            y_train = torch.cat([y_train, y_part], 0)\n",
    "    return X_train, y_train, X_valid, y_valid\n",
    "\n",
    "\n",
    "def k_fold(k, X_train, y_train, num_epochs, learning_rate, weight_decay,\n",
    "           batch_size):\n",
    "    train_l_sum, valid_l_sum = 0, 0\n",
    "    for i in range(k):\n",
    "        data = get_k_fold_data(k, i, X_train, y_train)\n",
    "        net = get_net()\n",
    "        train_ls, valid_ls = train(net, *data, num_epochs, learning_rate,\n",
    "                                   weight_decay, batch_size)\n",
    "        train_l_sum += train_ls[-1]\n",
    "        valid_l_sum += valid_ls[-1]\n",
    "        print(f'fold {i + 1}, train log rmse {float(train_ls[-1]):f}, '\n",
    "              f'valid log rmse {float(valid_ls[-1]):f}')\n",
    "    return train_l_sum / k, valid_l_sum / k\n",
    "\n",
    "\n",
    "def train_and_pred(train_features, test_features, train_labels, test_data,\n",
    "                   num_epochs, lr, weight_decay, batch_size):\n",
    "    net = get_net()\n",
    "    train_ls, valid_ls = train(net, train_features, train_labels, None, None,\n",
    "                        num_epochs, lr, weight_decay, batch_size)\n",
    "    train_ls_all = []\n",
    "    train_ls_all.append(train_ls)\n",
    "    # plt.plot(np.arange(1,101,1),train_ls_all[0])\n",
    "    # plt.xlabel('epoch'), plt.ylabel('rmse')\n",
    "    print(f'train log rmse {float(train_ls[-1]):f}')\n",
    "    preds = net(test_features).cpu().detach().numpy()\n",
    "    test_data['SalePrice'] = pd.Series(preds.reshape(1,-1)[0])\n",
    "    submission = pd.concat([test_data['Id'], test_data['SalePrice']], axis=1)\n",
    "    submission.to_csv('submission.csv', index=False)"
   ],
   "id": "8b0e43683ffdc80b",
   "outputs": [],
   "execution_count": 9
  },
  {
   "metadata": {
    "ExecuteTime": {
     "end_time": "2025-01-07T05:46:48.405699Z",
     "start_time": "2025-01-07T05:46:48.392700Z"
    }
   },
   "cell_type": "code",
   "source": [
    "# k, num_epochs, lr, weight_decay, batch_size = 5, 100, 0.002, 2, 64\n",
    "#\n",
    "# print(\"K-fold Validation:\\n\")\n",
    "#\n",
    "# train_l, valid_l = k_fold(k, train_features, train_labels, num_epochs, lr,\n",
    "#                           weight_decay, batch_size)\n",
    "# print(f'{k}-fold validation: avg train log rmse: {float(train_l):f}, '\n",
    "#       f'avg valid log rmse: {float(valid_l):f}')\n",
    "#\n",
    "# train_and_pred(train_features, test_features, train_labels, test_raw,\n",
    "#                num_epochs, lr, weight_decay, batch_size)\n",
    "#\n",
    "# print(\"\\n\\nTrain on different lr range from 0.01 to 0.0001 with stepping 0.0001:\\n\")\n",
    "#\n",
    "# lr_range = np.arange(0.0001, 0.01, 0.0001).tolist()\n",
    "# for lr in lr_range:\n",
    "#     print('\\nlr:{:.5f}'.format(lr))\n",
    "#     train_and_pred(train_features, test_features, train_labels, test_raw,\n",
    "#                num_epochs, lr, weight_decay, batch_size)\n"
   ],
   "id": "7006a5e7638f1d93",
   "outputs": [],
   "execution_count": 10
  },
  {
   "metadata": {
    "ExecuteTime": {
     "end_time": "2025-01-07T05:52:33.271913Z",
     "start_time": "2025-01-07T05:46:48.951254Z"
    }
   },
   "cell_type": "code",
   "source": [
    "num_epochs=100\n",
    "lr=0.00100\n",
    "weight_decay=2\n",
    "batch_size=8\n",
    "\n",
    "train_and_pred(train_features, test_features, train_labels, test_raw,\n",
    "           num_epochs, lr, weight_decay, batch_size)"
   ],
   "id": "80fc3ebce8482d59",
   "outputs": [
    {
     "name": "stdout",
     "output_type": "stream",
     "text": [
      "train log rmse 0.033362\n"
     ]
    }
   ],
   "execution_count": 11
  },
  {
   "metadata": {},
   "cell_type": "code",
   "outputs": [],
   "execution_count": null,
   "source": "",
   "id": "48344549b34e55c9"
  }
 ],
 "metadata": {
  "kernelspec": {
   "display_name": "Python 3",
   "language": "python",
   "name": "python3"
  },
  "language_info": {
   "codemirror_mode": {
    "name": "ipython",
    "version": 2
   },
   "file_extension": ".py",
   "mimetype": "text/x-python",
   "name": "python",
   "nbconvert_exporter": "python",
   "pygments_lexer": "ipython2",
   "version": "2.7.6"
  }
 },
 "nbformat": 4,
 "nbformat_minor": 5
}
